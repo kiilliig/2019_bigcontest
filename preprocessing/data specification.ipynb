{
 "cells": [
  {
   "cell_type": "markdown",
   "metadata": {},
   "source": [
    "## data specification 작성"
   ]
  },
  {
   "cell_type": "code",
   "execution_count": null,
   "metadata": {},
   "outputs": [],
   "source": [
    "spec = pd.read_csv(\"C:/Users/이명아/Desktop/data specification.csv\", engine = 'python')"
   ]
  },
  {
   "cell_type": "code",
   "execution_count": null,
   "metadata": {},
   "outputs": [],
   "source": [
    "spec.head()"
   ]
  },
  {
   "cell_type": "markdown",
   "metadata": {},
   "source": [
    "### Unstandardizing function & data specification "
   ]
  },
  {
   "cell_type": "code",
   "execution_count": null,
   "metadata": {},
   "outputs": [],
   "source": [
    "def unstandardize(train_df,variable):\n",
    "    unique = train_df[variable].unique()\n",
    "    unique_sorted = np.sort(unique)\n",
    "    sd = 1/pd.DataFrame(pd.DataFrame(np.diff(unique_sorted))[0].value_counts()).reset_index()['index'][0]\n",
    "    return sd,unique_sorted,train_df[variable]*sd"
   ]
  },
  {
   "cell_type": "code",
   "execution_count": null,
   "metadata": {},
   "outputs": [],
   "source": [
    "# max, min, mean 구하기\n",
    "\n",
    "for i in range(1,len(train_df.columns)):\n",
    "    try:\n",
    "        spec.iloc[i,8] = unstandardize(train_df,train_df.columns[i])[2].max()\n",
    "        spec.iloc[i,9] = unstandardize(train_df,train_df.columns[i])[2].min()\n",
    "        spec.iloc[i,10] = unstandardize(train_df,train_df.columns[i])[2].mean()\n",
    "        \n",
    "    except (TypeError,KeyError,IndexError):\n",
    "        pass"
   ]
  },
  {
   "cell_type": "code",
   "execution_count": null,
   "metadata": {},
   "outputs": [],
   "source": [
    "# 즈어장\n",
    "spec.to_csv(\"data specification.csv\",encoding='ms949')"
   ]
  },
  {
   "cell_type": "code",
   "execution_count": null,
   "metadata": {},
   "outputs": [],
   "source": []
  }
 ],
 "metadata": {
  "kernelspec": {
   "display_name": "Python 3",
   "language": "python",
   "name": "python3"
  },
  "language_info": {
   "codemirror_mode": {
    "name": "ipython",
    "version": 3
   },
   "file_extension": ".py",
   "mimetype": "text/x-python",
   "name": "python",
   "nbconvert_exporter": "python",
   "pygments_lexer": "ipython3",
   "version": "3.6.5"
  }
 },
 "nbformat": 4,
 "nbformat_minor": 2
}
