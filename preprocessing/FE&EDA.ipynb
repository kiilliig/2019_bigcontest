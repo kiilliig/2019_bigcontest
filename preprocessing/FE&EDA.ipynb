{
 "cells": [
  {
   "cell_type": "code",
   "execution_count": 1,
   "metadata": {},
   "outputs": [],
   "source": [
    "import pandas as pd"
   ]
  },
  {
   "cell_type": "markdown",
   "metadata": {},
   "source": [
    "*  전처리는 total data에서 하고 독립변수와 종속변수의 관계를 볼 때에는 train data에서만 하는 것을 권장"
   ]
  },
  {
   "cell_type": "code",
   "execution_count": 8,
   "metadata": {},
   "outputs": [],
   "source": [
    "\n",
    "activity = pd.read_csv(\"C:/Users/이명아/Desktop/빅콘/data_all/activity_all.csv\",engine = \"python\")"
   ]
  },
  {
   "cell_type": "code",
   "execution_count": 9,
   "metadata": {},
   "outputs": [],
   "source": [
    "combat  = pd.read_csv(\"C:/Users/이명아/Desktop/빅콘/data_all/combat_all.csv\",engine='python')\n",
    "payment = pd.read_csv(\"C:/Users/이명아/Desktop/빅콘/data_all/payment_all.csv\",engine='python')\n",
    "pledge = pd.read_csv(\"C:/Users/이명아/Desktop/빅콘/data_all/pledge_all.csv\",engine='python')\n",
    "trade = pd.read_csv(\"C:/Users/이명아/Desktop/빅콘/data_all/trade_all.csv\",engine='python')"
   ]
  },
  {
   "cell_type": "markdown",
   "metadata": {},
   "source": [
    "### Activity EDA"
   ]
  },
  {
   "cell_type": "code",
   "execution_count": 15,
   "metadata": {},
   "outputs": [
    {
     "data": {
      "text/html": [
       "<div>\n",
       "<style scoped>\n",
       "    .dataframe tbody tr th:only-of-type {\n",
       "        vertical-align: middle;\n",
       "    }\n",
       "\n",
       "    .dataframe tbody tr th {\n",
       "        vertical-align: top;\n",
       "    }\n",
       "\n",
       "    .dataframe thead th {\n",
       "        text-align: right;\n",
       "    }\n",
       "</style>\n",
       "<table border=\"1\" class=\"dataframe\">\n",
       "  <thead>\n",
       "    <tr style=\"text-align: right;\">\n",
       "      <th></th>\n",
       "      <th>Unnamed: 0</th>\n",
       "      <th>day</th>\n",
       "      <th>acc_id</th>\n",
       "      <th>char_id</th>\n",
       "      <th>server</th>\n",
       "      <th>playtime</th>\n",
       "      <th>npc_kill</th>\n",
       "      <th>solo_exp</th>\n",
       "      <th>party_exp</th>\n",
       "      <th>quest_exp</th>\n",
       "      <th>boss_monster</th>\n",
       "      <th>death</th>\n",
       "      <th>revive</th>\n",
       "      <th>exp_recovery</th>\n",
       "      <th>fishing</th>\n",
       "      <th>private_shop</th>\n",
       "      <th>game_money_change</th>\n",
       "      <th>enchant_count</th>\n",
       "    </tr>\n",
       "  </thead>\n",
       "  <tbody>\n",
       "    <tr>\n",
       "      <th>0</th>\n",
       "      <td>0</td>\n",
       "      <td>1</td>\n",
       "      <td>75001</td>\n",
       "      <td>397380</td>\n",
       "      <td>aa</td>\n",
       "      <td>1.459994</td>\n",
       "      <td>0.000000</td>\n",
       "      <td>0.000000</td>\n",
       "      <td>0.000000</td>\n",
       "      <td>0.000000</td>\n",
       "      <td>0</td>\n",
       "      <td>0.00000</td>\n",
       "      <td>0.000000</td>\n",
       "      <td>0.0</td>\n",
       "      <td>0.0</td>\n",
       "      <td>1.119053</td>\n",
       "      <td>0.033934</td>\n",
       "      <td>0.0</td>\n",
       "    </tr>\n",
       "    <tr>\n",
       "      <th>1</th>\n",
       "      <td>1</td>\n",
       "      <td>1</td>\n",
       "      <td>75001</td>\n",
       "      <td>216231</td>\n",
       "      <td>aa</td>\n",
       "      <td>0.286785</td>\n",
       "      <td>2.244221</td>\n",
       "      <td>0.046989</td>\n",
       "      <td>0.000000</td>\n",
       "      <td>0.000000</td>\n",
       "      <td>0</td>\n",
       "      <td>0.00000</td>\n",
       "      <td>0.000000</td>\n",
       "      <td>0.0</td>\n",
       "      <td>0.0</td>\n",
       "      <td>0.000000</td>\n",
       "      <td>-0.013933</td>\n",
       "      <td>0.0</td>\n",
       "    </tr>\n",
       "    <tr>\n",
       "      <th>2</th>\n",
       "      <td>2</td>\n",
       "      <td>1</td>\n",
       "      <td>75711</td>\n",
       "      <td>308769</td>\n",
       "      <td>aa</td>\n",
       "      <td>1.049964</td>\n",
       "      <td>2.951697</td>\n",
       "      <td>0.321164</td>\n",
       "      <td>0.166247</td>\n",
       "      <td>0.003463</td>\n",
       "      <td>1</td>\n",
       "      <td>0.24537</td>\n",
       "      <td>0.246819</td>\n",
       "      <td>0.0</td>\n",
       "      <td>0.0</td>\n",
       "      <td>0.000000</td>\n",
       "      <td>-0.001983</td>\n",
       "      <td>0.0</td>\n",
       "    </tr>\n",
       "    <tr>\n",
       "      <th>3</th>\n",
       "      <td>3</td>\n",
       "      <td>1</td>\n",
       "      <td>72230</td>\n",
       "      <td>387177</td>\n",
       "      <td>aa</td>\n",
       "      <td>0.232272</td>\n",
       "      <td>4.035346</td>\n",
       "      <td>0.098944</td>\n",
       "      <td>0.000000</td>\n",
       "      <td>0.001732</td>\n",
       "      <td>0</td>\n",
       "      <td>0.00000</td>\n",
       "      <td>0.000000</td>\n",
       "      <td>0.0</td>\n",
       "      <td>0.0</td>\n",
       "      <td>0.000000</td>\n",
       "      <td>-0.028823</td>\n",
       "      <td>0.0</td>\n",
       "    </tr>\n",
       "    <tr>\n",
       "      <th>4</th>\n",
       "      <td>4</td>\n",
       "      <td>1</td>\n",
       "      <td>34253</td>\n",
       "      <td>339862</td>\n",
       "      <td>aa</td>\n",
       "      <td>1.102106</td>\n",
       "      <td>0.595805</td>\n",
       "      <td>0.003371</td>\n",
       "      <td>0.000000</td>\n",
       "      <td>0.000000</td>\n",
       "      <td>0</td>\n",
       "      <td>0.00000</td>\n",
       "      <td>0.000000</td>\n",
       "      <td>0.0</td>\n",
       "      <td>0.0</td>\n",
       "      <td>0.000000</td>\n",
       "      <td>0.011752</td>\n",
       "      <td>0.0</td>\n",
       "    </tr>\n",
       "  </tbody>\n",
       "</table>\n",
       "</div>"
      ],
      "text/plain": [
       "   Unnamed: 0  day  acc_id  char_id server  playtime  npc_kill  solo_exp  \\\n",
       "0           0    1   75001   397380     aa  1.459994  0.000000  0.000000   \n",
       "1           1    1   75001   216231     aa  0.286785  2.244221  0.046989   \n",
       "2           2    1   75711   308769     aa  1.049964  2.951697  0.321164   \n",
       "3           3    1   72230   387177     aa  0.232272  4.035346  0.098944   \n",
       "4           4    1   34253   339862     aa  1.102106  0.595805  0.003371   \n",
       "\n",
       "   party_exp  quest_exp  boss_monster    death    revive  exp_recovery  \\\n",
       "0   0.000000   0.000000             0  0.00000  0.000000           0.0   \n",
       "1   0.000000   0.000000             0  0.00000  0.000000           0.0   \n",
       "2   0.166247   0.003463             1  0.24537  0.246819           0.0   \n",
       "3   0.000000   0.001732             0  0.00000  0.000000           0.0   \n",
       "4   0.000000   0.000000             0  0.00000  0.000000           0.0   \n",
       "\n",
       "   fishing  private_shop  game_money_change  enchant_count  \n",
       "0      0.0      1.119053           0.033934            0.0  \n",
       "1      0.0      0.000000          -0.013933            0.0  \n",
       "2      0.0      0.000000          -0.001983            0.0  \n",
       "3      0.0      0.000000          -0.028823            0.0  \n",
       "4      0.0      0.000000           0.011752            0.0  "
      ]
     },
     "execution_count": 15,
     "metadata": {},
     "output_type": "execute_result"
    }
   ],
   "source": [
    "# 아이디 개수와 play 시간의 상관관계 \n",
    "activity.head()"
   ]
  },
  {
   "cell_type": "code",
   "execution_count": 123,
   "metadata": {},
   "outputs": [],
   "source": [
    "import numpy as np\n",
    "import matplotlib\n",
    "import matplotlib.pyplot as plt"
   ]
  },
  {
   "cell_type": "code",
   "execution_count": 32,
   "metadata": {},
   "outputs": [
    {
     "data": {
      "text/plain": [
       "<BarContainer object of 28 artists>"
      ]
     },
     "execution_count": 32,
     "metadata": {},
     "output_type": "execute_result"
    },
    {
     "data": {
      "image/png": "[encoded data removed]",
      "text/plain": [
       "<Figure size 432x288 with 1 Axes>"
      ]
     },
     "metadata": {},
     "output_type": "display_data"
    }
   ],
   "source": [
    "# 날짜별 playtime \n",
    "day_by_playtime = activity.groupby(\"day\")[\"playtime\"].sum()\n",
    "plt.bar(day_by_playtime.index, day_by_playtime.values, align = 'center')"
   ]
  },
  {
   "cell_type": "code",
   "execution_count": 52,
   "metadata": {},
   "outputs": [
    {
     "data": {
      "text/plain": [
       "3.9199875"
      ]
     },
     "execution_count": 52,
     "metadata": {},
     "output_type": "execute_result"
    }
   ],
   "source": [
    "# 유저당 평균 캐릭터 보유 개수\n",
    "activity[['acc_id','char_id']].drop_duplicates().groupby('acc_id').count().reset_index()['char_id'].mean()  #유저당 약 3.9개 아이디 사용"
   ]
  },
  {
   "cell_type": "code",
   "execution_count": 82,
   "metadata": {},
   "outputs": [],
   "source": [
    "new1 = activity[['acc_id','char_id']].drop_duplicates().groupby('acc_id').count().reset_index()"
   ]
  },
  {
   "cell_type": "code",
   "execution_count": 75,
   "metadata": {},
   "outputs": [
    {
     "name": "stdout",
     "output_type": "stream",
     "text": [
      "18874\n"
     ]
    }
   ],
   "source": [
    "# 게임 캐릭터 6개 이상인 유저의 수 : 18874/80000 오류?\n",
    "\n",
    "count = 0\n",
    "\n",
    "for i in range(len(new1)):\n",
    "    if new1.iloc[i,1]>5:\n",
    "        count  +=1\n",
    "    \n",
    "print(count)"
   ]
  },
  {
   "cell_type": "code",
   "execution_count": 154,
   "metadata": {},
   "outputs": [],
   "source": [
    "# 캐릭터 보유 개수와 playtime 관의 관계 보기\n",
    "new1['char_cnt'] = \"\"\n",
    "# new1['char_cnt'] = new1.apply(lambda x : 1 if new1['char_id']>3 else 0) 왜안되냐"
   ]
  },
  {
   "cell_type": "code",
   "execution_count": 157,
   "metadata": {},
   "outputs": [],
   "source": [
    "for i in range(len(new1)):\n",
    "    if new1.iloc[i,1] > 3:\n",
    "        new1.iloc[i,2] = 1\n",
    "    else:\n",
    "        new1.iloc[i,2] = 0"
   ]
  },
  {
   "cell_type": "code",
   "execution_count": 162,
   "metadata": {},
   "outputs": [
    {
     "data": {
      "text/html": [
       "<div>\n",
       "<style scoped>\n",
       "    .dataframe tbody tr th:only-of-type {\n",
       "        vertical-align: middle;\n",
       "    }\n",
       "\n",
       "    .dataframe tbody tr th {\n",
       "        vertical-align: top;\n",
       "    }\n",
       "\n",
       "    .dataframe thead th {\n",
       "        text-align: right;\n",
       "    }\n",
       "</style>\n",
       "<table border=\"1\" class=\"dataframe\">\n",
       "  <thead>\n",
       "    <tr style=\"text-align: right;\">\n",
       "      <th></th>\n",
       "      <th>acc_id</th>\n",
       "      <th>char_id</th>\n",
       "      <th>char_cnt</th>\n",
       "    </tr>\n",
       "  </thead>\n",
       "  <tbody>\n",
       "    <tr>\n",
       "      <th>0</th>\n",
       "      <td>1</td>\n",
       "      <td>2</td>\n",
       "      <td>0</td>\n",
       "    </tr>\n",
       "    <tr>\n",
       "      <th>1</th>\n",
       "      <td>2</td>\n",
       "      <td>1</td>\n",
       "      <td>0</td>\n",
       "    </tr>\n",
       "    <tr>\n",
       "      <th>2</th>\n",
       "      <td>3</td>\n",
       "      <td>9</td>\n",
       "      <td>1</td>\n",
       "    </tr>\n",
       "    <tr>\n",
       "      <th>3</th>\n",
       "      <td>5</td>\n",
       "      <td>3</td>\n",
       "      <td>0</td>\n",
       "    </tr>\n",
       "    <tr>\n",
       "      <th>4</th>\n",
       "      <td>7</td>\n",
       "      <td>3</td>\n",
       "      <td>0</td>\n",
       "    </tr>\n",
       "  </tbody>\n",
       "</table>\n",
       "</div>"
      ],
      "text/plain": [
       "   acc_id  char_id  char_cnt\n",
       "0       1        2         0\n",
       "1       2        1         0\n",
       "2       3        9         1\n",
       "3       5        3         0\n",
       "4       7        3         0"
      ]
     },
     "execution_count": 162,
     "metadata": {},
     "output_type": "execute_result"
    }
   ],
   "source": [
    "new1.head()"
   ]
  },
  {
   "cell_type": "code",
   "execution_count": 187,
   "metadata": {},
   "outputs": [
    {
     "data": {
      "text/html": [
       "<div>\n",
       "<style scoped>\n",
       "    .dataframe tbody tr th:only-of-type {\n",
       "        vertical-align: middle;\n",
       "    }\n",
       "\n",
       "    .dataframe tbody tr th {\n",
       "        vertical-align: top;\n",
       "    }\n",
       "\n",
       "    .dataframe thead th {\n",
       "        text-align: right;\n",
       "    }\n",
       "</style>\n",
       "<table border=\"1\" class=\"dataframe\">\n",
       "  <thead>\n",
       "    <tr style=\"text-align: right;\">\n",
       "      <th></th>\n",
       "      <th>acc_id</th>\n",
       "      <th>playtime</th>\n",
       "    </tr>\n",
       "  </thead>\n",
       "  <tbody>\n",
       "    <tr>\n",
       "      <th>0</th>\n",
       "      <td>1</td>\n",
       "      <td>89.666413</td>\n",
       "    </tr>\n",
       "    <tr>\n",
       "      <th>1</th>\n",
       "      <td>2</td>\n",
       "      <td>92.685947</td>\n",
       "    </tr>\n",
       "    <tr>\n",
       "      <th>2</th>\n",
       "      <td>3</td>\n",
       "      <td>2.728009</td>\n",
       "    </tr>\n",
       "    <tr>\n",
       "      <th>3</th>\n",
       "      <td>5</td>\n",
       "      <td>6.193126</td>\n",
       "    </tr>\n",
       "    <tr>\n",
       "      <th>4</th>\n",
       "      <td>7</td>\n",
       "      <td>1.268015</td>\n",
       "    </tr>\n",
       "  </tbody>\n",
       "</table>\n",
       "</div>"
      ],
      "text/plain": [
       "   acc_id   playtime\n",
       "0       1  89.666413\n",
       "1       2  92.685947\n",
       "2       3   2.728009\n",
       "3       5   6.193126\n",
       "4       7   1.268015"
      ]
     },
     "execution_count": 187,
     "metadata": {},
     "output_type": "execute_result"
    }
   ],
   "source": [
    "new2 = activity[['acc_id','char_id','playtime']].groupby(['acc_id'])['playtime'].sum().reset_index()\n",
    "new2.head()"
   ]
  },
  {
   "cell_type": "code",
   "execution_count": 190,
   "metadata": {},
   "outputs": [
    {
     "data": {
      "text/html": [
       "<div>\n",
       "<style scoped>\n",
       "    .dataframe tbody tr th:only-of-type {\n",
       "        vertical-align: middle;\n",
       "    }\n",
       "\n",
       "    .dataframe tbody tr th {\n",
       "        vertical-align: top;\n",
       "    }\n",
       "\n",
       "    .dataframe thead th {\n",
       "        text-align: right;\n",
       "    }\n",
       "</style>\n",
       "<table border=\"1\" class=\"dataframe\">\n",
       "  <thead>\n",
       "    <tr style=\"text-align: right;\">\n",
       "      <th></th>\n",
       "      <th>acc_id</th>\n",
       "      <th>playtime</th>\n",
       "      <th>char_id</th>\n",
       "      <th>char_cnt</th>\n",
       "    </tr>\n",
       "  </thead>\n",
       "  <tbody>\n",
       "    <tr>\n",
       "      <th>0</th>\n",
       "      <td>1</td>\n",
       "      <td>89.666413</td>\n",
       "      <td>2</td>\n",
       "      <td>0</td>\n",
       "    </tr>\n",
       "    <tr>\n",
       "      <th>1</th>\n",
       "      <td>2</td>\n",
       "      <td>92.685947</td>\n",
       "      <td>1</td>\n",
       "      <td>0</td>\n",
       "    </tr>\n",
       "    <tr>\n",
       "      <th>2</th>\n",
       "      <td>3</td>\n",
       "      <td>2.728009</td>\n",
       "      <td>9</td>\n",
       "      <td>1</td>\n",
       "    </tr>\n",
       "    <tr>\n",
       "      <th>3</th>\n",
       "      <td>5</td>\n",
       "      <td>6.193126</td>\n",
       "      <td>3</td>\n",
       "      <td>0</td>\n",
       "    </tr>\n",
       "    <tr>\n",
       "      <th>4</th>\n",
       "      <td>7</td>\n",
       "      <td>1.268015</td>\n",
       "      <td>3</td>\n",
       "      <td>0</td>\n",
       "    </tr>\n",
       "  </tbody>\n",
       "</table>\n",
       "</div>"
      ],
      "text/plain": [
       "   acc_id   playtime  char_id  char_cnt\n",
       "0       1  89.666413        2         0\n",
       "1       2  92.685947        1         0\n",
       "2       3   2.728009        9         1\n",
       "3       5   6.193126        3         0\n",
       "4       7   1.268015        3         0"
      ]
     },
     "execution_count": 190,
     "metadata": {},
     "output_type": "execute_result"
    }
   ],
   "source": [
    "new3 = pd.merge(new2, new1, how='left', on='acc_id')\n",
    "new3.head()"
   ]
  },
  {
   "cell_type": "code",
   "execution_count": 212,
   "metadata": {},
   "outputs": [],
   "source": [
    "aa= new3.groupby('char_cnt')['playtime'].mean()\n",
    "aa.index= ['0','1']"
   ]
  },
  {
   "cell_type": "code",
   "execution_count": 210,
   "metadata": {},
   "outputs": [
    {
     "data": {
      "text/plain": [
       "<BarContainer object of 2 artists>"
      ]
     },
     "execution_count": 210,
     "metadata": {},
     "output_type": "execute_result"
    },
    {
     "data": {
      "image/png": "[encoded data removed]",
      "text/plain": [
       "<Figure size 432x288 with 1 Axes>"
      ]
     },
     "metadata": {},
     "output_type": "display_data"
    }
   ],
   "source": [
    "plt.bar(aa.index, aa.values)    # 캐릭터 수를 3개 이하로 가진 유저들의 평균 플레이 시간이 더 많았다"
   ]
  },
  {
   "cell_type": "markdown",
   "metadata": {},
   "source": [
    "### train all EDA"
   ]
  },
  {
   "cell_type": "code",
   "execution_count": 222,
   "metadata": {},
   "outputs": [],
   "source": [
    "train_df = pd.read_csv(\"ma_train_total.csv\")"
   ]
  },
  {
   "cell_type": "code",
   "execution_count": 229,
   "metadata": {},
   "outputs": [
    {
     "data": {
      "text/html": [
       "<div>\n",
       "<style scoped>\n",
       "    .dataframe tbody tr th:only-of-type {\n",
       "        vertical-align: middle;\n",
       "    }\n",
       "\n",
       "    .dataframe tbody tr th {\n",
       "        vertical-align: top;\n",
       "    }\n",
       "\n",
       "    .dataframe thead th {\n",
       "        text-align: right;\n",
       "    }\n",
       "</style>\n",
       "<table border=\"1\" class=\"dataframe\">\n",
       "  <thead>\n",
       "    <tr style=\"text-align: right;\">\n",
       "      <th></th>\n",
       "      <th>Unnamed: 0</th>\n",
       "      <th>day</th>\n",
       "      <th>acc_id</th>\n",
       "      <th>char_id</th>\n",
       "      <th>server</th>\n",
       "      <th>playtime</th>\n",
       "      <th>npc_kill</th>\n",
       "      <th>solo_exp</th>\n",
       "      <th>party_exp</th>\n",
       "      <th>quest_exp</th>\n",
       "      <th>...</th>\n",
       "      <th>server_trade_y.1</th>\n",
       "      <th>source_accessory_price</th>\n",
       "      <th>source_adena_price</th>\n",
       "      <th>source_armor_price</th>\n",
       "      <th>source_enchant_scroll_price</th>\n",
       "      <th>source_etc_price</th>\n",
       "      <th>source_spell_price</th>\n",
       "      <th>source_weapon_price</th>\n",
       "      <th>survival_time</th>\n",
       "      <th>amount_spent_avg</th>\n",
       "    </tr>\n",
       "  </thead>\n",
       "  <tbody>\n",
       "    <tr>\n",
       "      <th>0</th>\n",
       "      <td>37347</td>\n",
       "      <td>1</td>\n",
       "      <td>2</td>\n",
       "      <td>233598</td>\n",
       "      <td>au</td>\n",
       "      <td>2.737490</td>\n",
       "      <td>0.000000</td>\n",
       "      <td>0.000000</td>\n",
       "      <td>0.0</td>\n",
       "      <td>0.000000</td>\n",
       "      <td>...</td>\n",
       "      <td>NaN</td>\n",
       "      <td>NaN</td>\n",
       "      <td>NaN</td>\n",
       "      <td>NaN</td>\n",
       "      <td>NaN</td>\n",
       "      <td>NaN</td>\n",
       "      <td>NaN</td>\n",
       "      <td>NaN</td>\n",
       "      <td>64.0</td>\n",
       "      <td>0.00000</td>\n",
       "    </tr>\n",
       "    <tr>\n",
       "      <th>1</th>\n",
       "      <td>24573</td>\n",
       "      <td>1</td>\n",
       "      <td>8</td>\n",
       "      <td>43437</td>\n",
       "      <td>ao</td>\n",
       "      <td>0.002370</td>\n",
       "      <td>0.000000</td>\n",
       "      <td>0.000000</td>\n",
       "      <td>0.0</td>\n",
       "      <td>0.000000</td>\n",
       "      <td>...</td>\n",
       "      <td>NaN</td>\n",
       "      <td>NaN</td>\n",
       "      <td>NaN</td>\n",
       "      <td>NaN</td>\n",
       "      <td>NaN</td>\n",
       "      <td>NaN</td>\n",
       "      <td>NaN</td>\n",
       "      <td>NaN</td>\n",
       "      <td>64.0</td>\n",
       "      <td>0.02031</td>\n",
       "    </tr>\n",
       "    <tr>\n",
       "      <th>2</th>\n",
       "      <td>24574</td>\n",
       "      <td>1</td>\n",
       "      <td>8</td>\n",
       "      <td>71899</td>\n",
       "      <td>ao</td>\n",
       "      <td>0.007110</td>\n",
       "      <td>0.000000</td>\n",
       "      <td>0.000000</td>\n",
       "      <td>0.0</td>\n",
       "      <td>0.000000</td>\n",
       "      <td>...</td>\n",
       "      <td>NaN</td>\n",
       "      <td>NaN</td>\n",
       "      <td>NaN</td>\n",
       "      <td>NaN</td>\n",
       "      <td>NaN</td>\n",
       "      <td>NaN</td>\n",
       "      <td>NaN</td>\n",
       "      <td>NaN</td>\n",
       "      <td>64.0</td>\n",
       "      <td>0.02031</td>\n",
       "    </tr>\n",
       "    <tr>\n",
       "      <th>3</th>\n",
       "      <td>24576</td>\n",
       "      <td>1</td>\n",
       "      <td>8</td>\n",
       "      <td>126227</td>\n",
       "      <td>ao</td>\n",
       "      <td>0.355518</td>\n",
       "      <td>3.035366</td>\n",
       "      <td>8.403418</td>\n",
       "      <td>0.0</td>\n",
       "      <td>0.093822</td>\n",
       "      <td>...</td>\n",
       "      <td>NaN</td>\n",
       "      <td>NaN</td>\n",
       "      <td>NaN</td>\n",
       "      <td>NaN</td>\n",
       "      <td>NaN</td>\n",
       "      <td>NaN</td>\n",
       "      <td>NaN</td>\n",
       "      <td>NaN</td>\n",
       "      <td>64.0</td>\n",
       "      <td>0.02031</td>\n",
       "    </tr>\n",
       "    <tr>\n",
       "      <th>4</th>\n",
       "      <td>24570</td>\n",
       "      <td>1</td>\n",
       "      <td>8</td>\n",
       "      <td>207949</td>\n",
       "      <td>ao</td>\n",
       "      <td>0.002370</td>\n",
       "      <td>0.000000</td>\n",
       "      <td>0.000000</td>\n",
       "      <td>0.0</td>\n",
       "      <td>0.000000</td>\n",
       "      <td>...</td>\n",
       "      <td>NaN</td>\n",
       "      <td>NaN</td>\n",
       "      <td>NaN</td>\n",
       "      <td>NaN</td>\n",
       "      <td>NaN</td>\n",
       "      <td>NaN</td>\n",
       "      <td>NaN</td>\n",
       "      <td>NaN</td>\n",
       "      <td>64.0</td>\n",
       "      <td>0.02031</td>\n",
       "    </tr>\n",
       "  </tbody>\n",
       "</table>\n",
       "<p>5 rows × 73 columns</p>\n",
       "</div>"
      ],
      "text/plain": [
       "   Unnamed: 0  day  acc_id  char_id server  playtime  npc_kill  solo_exp  \\\n",
       "0       37347    1       2   233598     au  2.737490  0.000000  0.000000   \n",
       "1       24573    1       8    43437     ao  0.002370  0.000000  0.000000   \n",
       "2       24574    1       8    71899     ao  0.007110  0.000000  0.000000   \n",
       "3       24576    1       8   126227     ao  0.355518  3.035366  8.403418   \n",
       "4       24570    1       8   207949     ao  0.002370  0.000000  0.000000   \n",
       "\n",
       "   party_exp  quest_exp        ...         server_trade_y.1  \\\n",
       "0        0.0   0.000000        ...                      NaN   \n",
       "1        0.0   0.000000        ...                      NaN   \n",
       "2        0.0   0.000000        ...                      NaN   \n",
       "3        0.0   0.093822        ...                      NaN   \n",
       "4        0.0   0.000000        ...                      NaN   \n",
       "\n",
       "   source_accessory_price  source_adena_price  source_armor_price  \\\n",
       "0                     NaN                 NaN                 NaN   \n",
       "1                     NaN                 NaN                 NaN   \n",
       "2                     NaN                 NaN                 NaN   \n",
       "3                     NaN                 NaN                 NaN   \n",
       "4                     NaN                 NaN                 NaN   \n",
       "\n",
       "   source_enchant_scroll_price  source_etc_price  source_spell_price  \\\n",
       "0                          NaN               NaN                 NaN   \n",
       "1                          NaN               NaN                 NaN   \n",
       "2                          NaN               NaN                 NaN   \n",
       "3                          NaN               NaN                 NaN   \n",
       "4                          NaN               NaN                 NaN   \n",
       "\n",
       "   source_weapon_price  survival_time  amount_spent_avg  \n",
       "0                  NaN           64.0           0.00000  \n",
       "1                  NaN           64.0           0.02031  \n",
       "2                  NaN           64.0           0.02031  \n",
       "3                  NaN           64.0           0.02031  \n",
       "4                  NaN           64.0           0.02031  \n",
       "\n",
       "[5 rows x 73 columns]"
      ]
     },
     "execution_count": 229,
     "metadata": {},
     "output_type": "execute_result"
    }
   ],
   "source": [
    "train_df.head()"
   ]
  },
  {
   "cell_type": "code",
   "execution_count": 234,
   "metadata": {},
   "outputs": [
    {
     "data": {
      "text/html": [
       "<div>\n",
       "<style scoped>\n",
       "    .dataframe tbody tr th:only-of-type {\n",
       "        vertical-align: middle;\n",
       "    }\n",
       "\n",
       "    .dataframe tbody tr th {\n",
       "        vertical-align: top;\n",
       "    }\n",
       "\n",
       "    .dataframe thead th {\n",
       "        text-align: right;\n",
       "    }\n",
       "</style>\n",
       "<table border=\"1\" class=\"dataframe\">\n",
       "  <thead>\n",
       "    <tr style=\"text-align: right;\">\n",
       "      <th></th>\n",
       "      <th>solo_exp</th>\n",
       "      <th>party_exp</th>\n",
       "      <th>quest_exp</th>\n",
       "      <th>survival_time</th>\n",
       "    </tr>\n",
       "  </thead>\n",
       "  <tbody>\n",
       "    <tr>\n",
       "      <th>solo_exp</th>\n",
       "      <td>1.000000</td>\n",
       "      <td>0.059750</td>\n",
       "      <td>0.353281</td>\n",
       "      <td>-0.075918</td>\n",
       "    </tr>\n",
       "    <tr>\n",
       "      <th>party_exp</th>\n",
       "      <td>0.059750</td>\n",
       "      <td>1.000000</td>\n",
       "      <td>0.054048</td>\n",
       "      <td>-0.079704</td>\n",
       "    </tr>\n",
       "    <tr>\n",
       "      <th>quest_exp</th>\n",
       "      <td>0.353281</td>\n",
       "      <td>0.054048</td>\n",
       "      <td>1.000000</td>\n",
       "      <td>-0.040549</td>\n",
       "    </tr>\n",
       "    <tr>\n",
       "      <th>survival_time</th>\n",
       "      <td>-0.075918</td>\n",
       "      <td>-0.079704</td>\n",
       "      <td>-0.040549</td>\n",
       "      <td>1.000000</td>\n",
       "    </tr>\n",
       "  </tbody>\n",
       "</table>\n",
       "</div>"
      ],
      "text/plain": [
       "               solo_exp  party_exp  quest_exp  survival_time\n",
       "solo_exp       1.000000   0.059750   0.353281      -0.075918\n",
       "party_exp      0.059750   1.000000   0.054048      -0.079704\n",
       "quest_exp      0.353281   0.054048   1.000000      -0.040549\n",
       "survival_time -0.075918  -0.079704  -0.040549       1.000000"
      ]
     },
     "execution_count": 234,
     "metadata": {},
     "output_type": "execute_result"
    }
   ],
   "source": [
    "# solo_exp, party_exp, quest_exp 와 survival_time의 상관관계\n",
    "\n",
    "new4 = train_df[['solo_exp','party_exp','quest_exp','survival_time']]\n",
    "new4.corr(method='pearson')\n",
    "\n",
    "# 경험치와 생존기간 사이에 관련이 있을것이라 생각했는데 그렇지 않음"
   ]
  },
  {
   "cell_type": "code",
   "execution_count": 248,
   "metadata": {},
   "outputs": [],
   "source": [
    "import math"
   ]
  },
  {
   "cell_type": "code",
   "execution_count": 260,
   "metadata": {},
   "outputs": [
    {
     "name": "stderr",
     "output_type": "stream",
     "text": [
      "C:\\Anaconda3\\lib\\site-packages\\ipykernel_launcher.py:4: SettingWithCopyWarning: \n",
      "A value is trying to be set on a copy of a slice from a DataFrame.\n",
      "Try using .loc[row_indexer,col_indexer] = value instead\n",
      "\n",
      "See the caveats in the documentation: http://pandas.pydata.org/pandas-docs/stable/indexing.html#indexing-view-versus-copy\n",
      "  after removing the cwd from sys.path.\n"
     ]
    }
   ],
   "source": [
    "# pledge_id 가 있는 사람과 없는 사람의 생존기간 차이\n",
    "\n",
    "new5 = train_df[['acc_id','char_id','pledge_id','playtime']]\n",
    "new5['pledge_xor'] = \"\""
   ]
  },
  {
   "cell_type": "code",
   "execution_count": 275,
   "metadata": {},
   "outputs": [],
   "source": [
    "def nan(x):\n",
    "    if math.isnan(x):\n",
    "        return 0\n",
    "    else: \n",
    "        return 1"
   ]
  },
  {
   "cell_type": "code",
   "execution_count": 278,
   "metadata": {},
   "outputs": [
    {
     "name": "stderr",
     "output_type": "stream",
     "text": [
      "C:\\Anaconda3\\lib\\site-packages\\ipykernel_launcher.py:1: SettingWithCopyWarning: \n",
      "A value is trying to be set on a copy of a slice from a DataFrame.\n",
      "Try using .loc[row_indexer,col_indexer] = value instead\n",
      "\n",
      "See the caveats in the documentation: http://pandas.pydata.org/pandas-docs/stable/indexing.html#indexing-view-versus-copy\n",
      "  \"\"\"Entry point for launching an IPython kernel.\n"
     ]
    }
   ],
   "source": [
    "new5['pledge_xor'] = new5['pledge_id'].apply(lambda x : nan(x))"
   ]
  },
  {
   "cell_type": "code",
   "execution_count": 287,
   "metadata": {},
   "outputs": [
    {
     "data": {
      "text/plain": [
       "<BarContainer object of 2 artists>"
      ]
     },
     "execution_count": 287,
     "metadata": {},
     "output_type": "execute_result"
    },
    {
     "data": {
      "image/png": "[encoded data removed]",
      "text/plain": [
       "<Figure size 432x288 with 1 Axes>"
      ]
     },
     "metadata": {},
     "output_type": "display_data"
    }
   ],
   "source": [
    "bb = new5.groupby('pledge_xor')['playtime'].sum()\n",
    "bb.index = ['0','1']\n",
    "plt.bar(bb.index, bb.values)\n",
    "\n",
    "# 혈맹 아이디가 있는 유저가 playtime 합이 훨씬 더 높다 --> 대부분의 유저가 pledge_id를 갖고있기 때문"
   ]
  },
  {
   "cell_type": "code",
   "execution_count": 290,
   "metadata": {},
   "outputs": [
    {
     "data": {
      "text/plain": [
       "pledge_xor\n",
       "0    1.029907\n",
       "1    1.076719\n",
       "Name: playtime, dtype: float64"
      ]
     },
     "execution_count": 290,
     "metadata": {},
     "output_type": "execute_result"
    }
   ],
   "source": [
    "cc = new5.groupby('pledge_xor')['playtime'].mean()\n",
    "cc\n",
    "# pledge_id가 있는 유저가 평균적으로 playtime이 살짝 높다."
   ]
  },
  {
   "cell_type": "code",
   "execution_count": 296,
   "metadata": {},
   "outputs": [],
   "source": [
    "new6 = train_df[['acc_id','char_id','class','playtime']]"
   ]
  },
  {
   "cell_type": "code",
   "execution_count": 310,
   "metadata": {},
   "outputs": [
    {
     "data": {
      "text/html": [
       "<div>\n",
       "<style scoped>\n",
       "    .dataframe tbody tr th:only-of-type {\n",
       "        vertical-align: middle;\n",
       "    }\n",
       "\n",
       "    .dataframe tbody tr th {\n",
       "        vertical-align: top;\n",
       "    }\n",
       "\n",
       "    .dataframe thead th {\n",
       "        text-align: right;\n",
       "    }\n",
       "</style>\n",
       "<table border=\"1\" class=\"dataframe\">\n",
       "  <thead>\n",
       "    <tr style=\"text-align: right;\">\n",
       "      <th></th>\n",
       "      <th>class</th>\n",
       "      <th>acc_id</th>\n",
       "      <th>char_id</th>\n",
       "      <th>playtime</th>\n",
       "    </tr>\n",
       "  </thead>\n",
       "  <tbody>\n",
       "    <tr>\n",
       "      <th>0</th>\n",
       "      <td>0.0</td>\n",
       "      <td>129102</td>\n",
       "      <td>129102</td>\n",
       "      <td>129102</td>\n",
       "    </tr>\n",
       "    <tr>\n",
       "      <th>1</th>\n",
       "      <td>1.0</td>\n",
       "      <td>328006</td>\n",
       "      <td>328006</td>\n",
       "      <td>328006</td>\n",
       "    </tr>\n",
       "    <tr>\n",
       "      <th>2</th>\n",
       "      <td>2.0</td>\n",
       "      <td>268120</td>\n",
       "      <td>268120</td>\n",
       "      <td>268120</td>\n",
       "    </tr>\n",
       "    <tr>\n",
       "      <th>3</th>\n",
       "      <td>3.0</td>\n",
       "      <td>246501</td>\n",
       "      <td>246501</td>\n",
       "      <td>246501</td>\n",
       "    </tr>\n",
       "    <tr>\n",
       "      <th>4</th>\n",
       "      <td>4.0</td>\n",
       "      <td>212877</td>\n",
       "      <td>212877</td>\n",
       "      <td>212877</td>\n",
       "    </tr>\n",
       "    <tr>\n",
       "      <th>5</th>\n",
       "      <td>5.0</td>\n",
       "      <td>132749</td>\n",
       "      <td>132749</td>\n",
       "      <td>132749</td>\n",
       "    </tr>\n",
       "    <tr>\n",
       "      <th>6</th>\n",
       "      <td>6.0</td>\n",
       "      <td>41375</td>\n",
       "      <td>41375</td>\n",
       "      <td>41375</td>\n",
       "    </tr>\n",
       "    <tr>\n",
       "      <th>7</th>\n",
       "      <td>7.0</td>\n",
       "      <td>215941</td>\n",
       "      <td>215941</td>\n",
       "      <td>215941</td>\n",
       "    </tr>\n",
       "  </tbody>\n",
       "</table>\n",
       "</div>"
      ],
      "text/plain": [
       "   class  acc_id  char_id  playtime\n",
       "0    0.0  129102   129102    129102\n",
       "1    1.0  328006   328006    328006\n",
       "2    2.0  268120   268120    268120\n",
       "3    3.0  246501   246501    246501\n",
       "4    4.0  212877   212877    212877\n",
       "5    5.0  132749   132749    132749\n",
       "6    6.0   41375    41375     41375\n",
       "7    7.0  215941   215941    215941"
      ]
     },
     "execution_count": 310,
     "metadata": {},
     "output_type": "execute_result"
    }
   ],
   "source": [
    "new6.groupby('class').count().reset_index()\n",
    "# 1-2-3-7-4-5-1-6 순으로 많음"
   ]
  }
 ],
 "metadata": {
  "kernelspec": {
   "display_name": "Python 3",
   "language": "python",
   "name": "python3"
  },
  "language_info": {
   "codemirror_mode": {
    "name": "ipython",
    "version": 3
   },
   "file_extension": ".py",
   "mimetype": "text/x-python",
   "name": "python",
   "nbconvert_exporter": "python",
   "pygments_lexer": "ipython3",
   "version": "3.6.5"
  }
 },
 "nbformat": 4,
 "nbformat_minor": 2
}
