{
 "cells": [
  {
   "cell_type": "markdown",
   "metadata": {},
   "source": [
    "## import packages"
   ]
  },
  {
   "cell_type": "code",
   "execution_count": 1,
   "metadata": {},
   "outputs": [],
   "source": [
    "import pandas as pd\n",
    "import numpy as np\n",
    "import matplotlib.pyplot as plt"
   ]
  },
  {
   "cell_type": "markdown",
   "metadata": {},
   "source": [
    "## Data Preparations"
   ]
  },
  {
   "cell_type": "code",
   "execution_count": 3,
   "metadata": {},
   "outputs": [],
   "source": [
    "train = pd.read_csv(\"C:/Users/이명아/Desktop/빅콘/data_all/train_df.csv\", engine = 'python')"
   ]
  },
  {
   "cell_type": "code",
   "execution_count": 4,
   "metadata": {},
   "outputs": [
    {
     "data": {
      "text/plain": [
       "(1594673, 69)"
      ]
     },
     "execution_count": 4,
     "metadata": {},
     "output_type": "execute_result"
    }
   ],
   "source": [
    "train.shape"
   ]
  },
  {
   "cell_type": "markdown",
   "metadata": {},
   "source": [
    "* train data 에 대해서만 EDA \n",
    "* acc_id, char_id, class 를 groupby 한 데이터 준비"
   ]
  },
  {
   "cell_type": "code",
   "execution_count": 4,
   "metadata": {},
   "outputs": [],
   "source": [
    "data = train.groupby(['acc_id','char_id','class']).agg('mean').reset_index()"
   ]
  },
  {
   "cell_type": "code",
   "execution_count": 5,
   "metadata": {},
   "outputs": [
    {
     "data": {
      "text/plain": [
       "(149851, 68)"
      ]
     },
     "execution_count": 5,
     "metadata": {},
     "output_type": "execute_result"
    }
   ],
   "source": [
    "data.shape"
   ]
  },
  {
   "cell_type": "code",
   "execution_count": 6,
   "metadata": {},
   "outputs": [],
   "source": [
    "data = data.drop(['Unnamed: 0','day'], axis=1)"
   ]
  },
  {
   "cell_type": "code",
   "execution_count": 8,
   "metadata": {},
   "outputs": [
    {
     "data": {
      "text/html": [
       "<div>\n",
       "<style scoped>\n",
       "    .dataframe tbody tr th:only-of-type {\n",
       "        vertical-align: middle;\n",
       "    }\n",
       "\n",
       "    .dataframe tbody tr th {\n",
       "        vertical-align: top;\n",
       "    }\n",
       "\n",
       "    .dataframe thead th {\n",
       "        text-align: right;\n",
       "    }\n",
       "</style>\n",
       "<table border=\"1\" class=\"dataframe\">\n",
       "  <thead>\n",
       "    <tr style=\"text-align: right;\">\n",
       "      <th></th>\n",
       "      <th>acc_id</th>\n",
       "      <th>char_id</th>\n",
       "      <th>class</th>\n",
       "      <th>survival_time</th>\n",
       "      <th>label_amount_spent</th>\n",
       "      <th>playtime</th>\n",
       "      <th>npc_kill</th>\n",
       "      <th>solo_exp</th>\n",
       "      <th>party_exp</th>\n",
       "      <th>quest_exp</th>\n",
       "      <th>...</th>\n",
       "      <th>combat_play_time</th>\n",
       "      <th>non_combat_play_time</th>\n",
       "      <th>level</th>\n",
       "      <th>pledge_cnt</th>\n",
       "      <th>random_attacker_cnt</th>\n",
       "      <th>random_defender_cnt</th>\n",
       "      <th>temp_cnt</th>\n",
       "      <th>same_pledge_cnt</th>\n",
       "      <th>etc_cnt</th>\n",
       "      <th>num_opponent</th>\n",
       "    </tr>\n",
       "  </thead>\n",
       "  <tbody>\n",
       "    <tr>\n",
       "      <th>0</th>\n",
       "      <td>2</td>\n",
       "      <td>233598</td>\n",
       "      <td>1.0</td>\n",
       "      <td>64.0</td>\n",
       "      <td>0.00000</td>\n",
       "      <td>3.310212</td>\n",
       "      <td>0.000000</td>\n",
       "      <td>0.000000</td>\n",
       "      <td>0.000000</td>\n",
       "      <td>0.000000</td>\n",
       "      <td>...</td>\n",
       "      <td>NaN</td>\n",
       "      <td>NaN</td>\n",
       "      <td>0.0</td>\n",
       "      <td>0.0</td>\n",
       "      <td>0.0</td>\n",
       "      <td>0.0</td>\n",
       "      <td>0.000000</td>\n",
       "      <td>0.0</td>\n",
       "      <td>0.0</td>\n",
       "      <td>0.000000</td>\n",
       "    </tr>\n",
       "    <tr>\n",
       "      <th>1</th>\n",
       "      <td>5</td>\n",
       "      <td>22260</td>\n",
       "      <td>2.0</td>\n",
       "      <td>60.0</td>\n",
       "      <td>0.00000</td>\n",
       "      <td>0.009480</td>\n",
       "      <td>0.000000</td>\n",
       "      <td>0.000000</td>\n",
       "      <td>0.000000</td>\n",
       "      <td>0.000000</td>\n",
       "      <td>...</td>\n",
       "      <td>0.000000</td>\n",
       "      <td>0.000533</td>\n",
       "      <td>4.0</td>\n",
       "      <td>0.0</td>\n",
       "      <td>0.0</td>\n",
       "      <td>0.0</td>\n",
       "      <td>0.000000</td>\n",
       "      <td>0.0</td>\n",
       "      <td>0.0</td>\n",
       "      <td>0.000000</td>\n",
       "    </tr>\n",
       "    <tr>\n",
       "      <th>2</th>\n",
       "      <td>5</td>\n",
       "      <td>175813</td>\n",
       "      <td>2.0</td>\n",
       "      <td>60.0</td>\n",
       "      <td>0.00000</td>\n",
       "      <td>0.003950</td>\n",
       "      <td>0.000000</td>\n",
       "      <td>0.000000</td>\n",
       "      <td>0.000000</td>\n",
       "      <td>0.000000</td>\n",
       "      <td>...</td>\n",
       "      <td>0.000000</td>\n",
       "      <td>0.000579</td>\n",
       "      <td>1.0</td>\n",
       "      <td>0.0</td>\n",
       "      <td>0.0</td>\n",
       "      <td>0.0</td>\n",
       "      <td>0.000000</td>\n",
       "      <td>0.0</td>\n",
       "      <td>0.0</td>\n",
       "      <td>0.000000</td>\n",
       "    </tr>\n",
       "    <tr>\n",
       "      <th>3</th>\n",
       "      <td>5</td>\n",
       "      <td>321231</td>\n",
       "      <td>2.0</td>\n",
       "      <td>60.0</td>\n",
       "      <td>0.00000</td>\n",
       "      <td>0.613387</td>\n",
       "      <td>0.323104</td>\n",
       "      <td>0.215103</td>\n",
       "      <td>0.069384</td>\n",
       "      <td>0.011082</td>\n",
       "      <td>...</td>\n",
       "      <td>0.509761</td>\n",
       "      <td>0.000000</td>\n",
       "      <td>15.0</td>\n",
       "      <td>0.0</td>\n",
       "      <td>0.0</td>\n",
       "      <td>0.0</td>\n",
       "      <td>0.047973</td>\n",
       "      <td>0.0</td>\n",
       "      <td>0.0</td>\n",
       "      <td>0.009813</td>\n",
       "    </tr>\n",
       "    <tr>\n",
       "      <th>4</th>\n",
       "      <td>8</td>\n",
       "      <td>43437</td>\n",
       "      <td>5.0</td>\n",
       "      <td>64.0</td>\n",
       "      <td>0.02031</td>\n",
       "      <td>0.050513</td>\n",
       "      <td>0.016721</td>\n",
       "      <td>0.019369</td>\n",
       "      <td>0.000000</td>\n",
       "      <td>0.003463</td>\n",
       "      <td>...</td>\n",
       "      <td>1.029651</td>\n",
       "      <td>0.000000</td>\n",
       "      <td>15.0</td>\n",
       "      <td>0.0</td>\n",
       "      <td>0.0</td>\n",
       "      <td>0.0</td>\n",
       "      <td>0.059966</td>\n",
       "      <td>0.0</td>\n",
       "      <td>0.0</td>\n",
       "      <td>0.012266</td>\n",
       "    </tr>\n",
       "  </tbody>\n",
       "</table>\n",
       "<p>5 rows × 66 columns</p>\n",
       "</div>"
      ],
      "text/plain": [
       "   acc_id  char_id  class  survival_time  label_amount_spent  playtime  \\\n",
       "0       2   233598    1.0           64.0             0.00000  3.310212   \n",
       "1       5    22260    2.0           60.0             0.00000  0.009480   \n",
       "2       5   175813    2.0           60.0             0.00000  0.003950   \n",
       "3       5   321231    2.0           60.0             0.00000  0.613387   \n",
       "4       8    43437    5.0           64.0             0.02031  0.050513   \n",
       "\n",
       "   npc_kill  solo_exp  party_exp  quest_exp      ...       combat_play_time  \\\n",
       "0  0.000000  0.000000   0.000000   0.000000      ...                    NaN   \n",
       "1  0.000000  0.000000   0.000000   0.000000      ...               0.000000   \n",
       "2  0.000000  0.000000   0.000000   0.000000      ...               0.000000   \n",
       "3  0.323104  0.215103   0.069384   0.011082      ...               0.509761   \n",
       "4  0.016721  0.019369   0.000000   0.003463      ...               1.029651   \n",
       "\n",
       "   non_combat_play_time  level  pledge_cnt  random_attacker_cnt  \\\n",
       "0                   NaN    0.0         0.0                  0.0   \n",
       "1              0.000533    4.0         0.0                  0.0   \n",
       "2              0.000579    1.0         0.0                  0.0   \n",
       "3              0.000000   15.0         0.0                  0.0   \n",
       "4              0.000000   15.0         0.0                  0.0   \n",
       "\n",
       "   random_defender_cnt  temp_cnt  same_pledge_cnt  etc_cnt  num_opponent  \n",
       "0                  0.0  0.000000              0.0      0.0      0.000000  \n",
       "1                  0.0  0.000000              0.0      0.0      0.000000  \n",
       "2                  0.0  0.000000              0.0      0.0      0.000000  \n",
       "3                  0.0  0.047973              0.0      0.0      0.009813  \n",
       "4                  0.0  0.059966              0.0      0.0      0.012266  \n",
       "\n",
       "[5 rows x 66 columns]"
      ]
     },
     "execution_count": 8,
     "metadata": {},
     "output_type": "execute_result"
    }
   ],
   "source": [
    "data.head()"
   ]
  },
  {
   "cell_type": "code",
   "execution_count": 9,
   "metadata": {},
   "outputs": [],
   "source": [
    "# 이탈/비이탈 과금/무과금에 대한 binary 데이터 추가\n",
    "\n",
    "data['survived'] = data['survival_time'].apply(lambda x : 1 if x==64 else 0) \n",
    "data['spent'] = data['label_amount_spent'].apply(lambda x : 0 if x==0 else 1)"
   ]
  },
  {
   "cell_type": "code",
   "execution_count": 11,
   "metadata": {},
   "outputs": [],
   "source": [
    "data = data.fillna(0)"
   ]
  },
  {
   "cell_type": "markdown",
   "metadata": {},
   "source": [
    "## 0. 시각화 함수 구현"
   ]
  },
  {
   "cell_type": "code",
   "execution_count": 17,
   "metadata": {},
   "outputs": [],
   "source": [
    "## 시각화 함수 따로 구현.\n",
    "def drawtable_survived_binary(df,variable,n):\n",
    "    df['chatBand'] = df[variable]\n",
    "    df['chatBand'] = pd.qcut(df[variable],n,duplicates='drop')\n",
    "    gr = df.groupby(['chatBand','survived']).size()\n",
    "    a = gr / gr.groupby(level=0).sum()\n",
    "    bb = df['chatBand'].unique().sort_values()\n",
    "    list1=[]\n",
    "    list2=[]\n",
    "\n",
    "    for i in range(2*n):\n",
    "        if i%2 == 0:\n",
    "            list1.append(pd.DataFrame(a).reset_index()[0][i])\n",
    "        if i%2 == 1:\n",
    "            list2.append(pd.DataFrame(a).reset_index()[0][i])\n",
    "\n",
    "\n",
    "    pos = list(range(n))\n",
    "    width=0.2\n",
    "\n",
    "    flg,ax = plt.subplots(figsize=(15,5))\n",
    "\n",
    "    plt.bar(pos,\n",
    "          list2,\n",
    "          width,\n",
    "          alpha=0.5,\n",
    "          color='#F78F1E')\n",
    "    plt.bar([p+width for p in pos],\n",
    "          list1,\n",
    "          width,\n",
    "          alpha=0.5,\n",
    "          color='#EE3224')\n",
    "\n",
    "\n",
    "    ax.set_ylabel('percentage')\n",
    "    ax.set_title(variable)\n",
    "    ax.set_xticks([p+1.5*width for p in pos])\n",
    "    ax.set_xticklabels(bb)\n",
    "    plt.xlim(min(pos)-width,max(pos)+width*4)\n",
    "    plt.ylim([0,max(list1+list2)])\n",
    "    plt.xticks(rotation=45)\n",
    "    plt.legend(['survived','not survived'],loc='upper right')\n",
    "    plt.grid()\n",
    "    plt.show()    "
   ]
  },
  {
   "cell_type": "code",
   "execution_count": 20,
   "metadata": {},
   "outputs": [],
   "source": [
    "## 시각화 함수 따로 구현.\n",
    "def drawtable_spent_binary(df,variable,n):\n",
    "    df['chatBand2'] = df[variable]\n",
    "    df['chatBand2'] = pd.qcut(df[variable],n,duplicates='drop')\n",
    "    gr = df.groupby(['chatBand2','spent']).size()\n",
    "    a = gr / gr.groupby(level=0).sum()\n",
    "    bb = df['chatBand2'].unique().sort_values()\n",
    "    list1=[]\n",
    "    list2=[]\n",
    "\n",
    "    for i in range(2*n):\n",
    "        if i%2 == 0:\n",
    "            list1.append(pd.DataFrame(a).reset_index()[0][i])\n",
    "        if i%2 == 1:\n",
    "            list2.append(pd.DataFrame(a).reset_index()[0][i])\n",
    "\n",
    "\n",
    "    pos = list(range(n))\n",
    "    width=0.2\n",
    "\n",
    "    flg,ax = plt.subplots(figsize=(15,5))\n",
    "\n",
    "    plt.bar(pos,\n",
    "          list2,\n",
    "          width,\n",
    "          alpha=0.5,\n",
    "          color='#F78F1E')\n",
    "    plt.bar([p+width for p in pos],\n",
    "          list1,\n",
    "          width,\n",
    "          alpha=0.5,\n",
    "          color='#EE3224')\n",
    "\n",
    "\n",
    "    ax.set_ylabel('percentage')\n",
    "    ax.set_title(variable)\n",
    "    ax.set_xticks([p+1.5*width for p in pos])\n",
    "    ax.set_xticklabels(bb)\n",
    "    plt.xlim(min(pos)-width,max(pos)+width*4)\n",
    "    plt.ylim([0,max(list1+list2)])\n",
    "    plt.xticks(rotation=45)\n",
    "    plt.legend(['spent','not spent'],loc='upper right')\n",
    "    plt.grid()\n",
    "    plt.show()    "
   ]
  },
  {
   "cell_type": "markdown",
   "metadata": {},
   "source": [
    "## 1. 캐릭터 수와 잔존율/과금 비례관계 확인"
   ]
  },
  {
   "cell_type": "code",
   "execution_count": 13,
   "metadata": {},
   "outputs": [
    {
     "data": {
      "text/html": [
       "<div>\n",
       "<style scoped>\n",
       "    .dataframe tbody tr th:only-of-type {\n",
       "        vertical-align: middle;\n",
       "    }\n",
       "\n",
       "    .dataframe tbody tr th {\n",
       "        vertical-align: top;\n",
       "    }\n",
       "\n",
       "    .dataframe thead th {\n",
       "        text-align: right;\n",
       "    }\n",
       "</style>\n",
       "<table border=\"1\" class=\"dataframe\">\n",
       "  <thead>\n",
       "    <tr style=\"text-align: right;\">\n",
       "      <th></th>\n",
       "      <th>acc_id</th>\n",
       "      <th>id_cnt</th>\n",
       "    </tr>\n",
       "  </thead>\n",
       "  <tbody>\n",
       "    <tr>\n",
       "      <th>0</th>\n",
       "      <td>2</td>\n",
       "      <td>1</td>\n",
       "    </tr>\n",
       "    <tr>\n",
       "      <th>1</th>\n",
       "      <td>5</td>\n",
       "      <td>3</td>\n",
       "    </tr>\n",
       "    <tr>\n",
       "      <th>2</th>\n",
       "      <td>8</td>\n",
       "      <td>7</td>\n",
       "    </tr>\n",
       "    <tr>\n",
       "      <th>3</th>\n",
       "      <td>17</td>\n",
       "      <td>4</td>\n",
       "    </tr>\n",
       "    <tr>\n",
       "      <th>4</th>\n",
       "      <td>20</td>\n",
       "      <td>2</td>\n",
       "    </tr>\n",
       "  </tbody>\n",
       "</table>\n",
       "</div>"
      ],
      "text/plain": [
       "   acc_id  id_cnt\n",
       "0       2       1\n",
       "1       5       3\n",
       "2       8       7\n",
       "3      17       4\n",
       "4      20       2"
      ]
     },
     "execution_count": 13,
     "metadata": {},
     "output_type": "execute_result"
    }
   ],
   "source": [
    "# 캐릭터 수와 잔존율 비례?\n",
    "# user id 별 보유한 캐릭터 수 구하고 열 추가\n",
    "\n",
    "data['id_cnt'] = 0\n",
    "id_data = data.groupby('acc_id')['id_cnt'].agg('count').reset_index()\n",
    "id_data.head()"
   ]
  },
  {
   "cell_type": "code",
   "execution_count": 14,
   "metadata": {},
   "outputs": [],
   "source": [
    "new_df = data.drop_duplicates('acc_id')   \n",
    "new_df = new_df[['acc_id','survived','spent']]"
   ]
  },
  {
   "cell_type": "code",
   "execution_count": 15,
   "metadata": {},
   "outputs": [],
   "source": [
    "new_df = pd.merge(id_data,new_df,on='acc_id')"
   ]
  },
  {
   "cell_type": "code",
   "execution_count": 16,
   "metadata": {},
   "outputs": [
    {
     "data": {
      "text/plain": [
       "(40000, 4)"
      ]
     },
     "execution_count": 16,
     "metadata": {},
     "output_type": "execute_result"
    }
   ],
   "source": [
    "new_df.shape"
   ]
  },
  {
   "cell_type": "code",
   "execution_count": 19,
   "metadata": {},
   "outputs": [
    {
     "data": {
      "image/png": "[encoded data removed]",
      "text/plain": [
       "<Figure size 1080x360 with 1 Axes>"
      ]
     },
     "metadata": {},
     "output_type": "display_data"
    }
   ],
   "source": [
    "drawtable_survived_binary(new_df, 'id_cnt', 3)\n",
    "\n",
    "# 캐릭터 개수가 높을 수록 잔존율이 높아짐 "
   ]
  },
  {
   "cell_type": "code",
   "execution_count": 21,
   "metadata": {},
   "outputs": [
    {
     "data": {
      "image/png": "[encoded data removed]",
      "text/plain": [
       "<Figure size 1080x360 with 1 Axes>"
      ]
     },
     "metadata": {},
     "output_type": "display_data"
    }
   ],
   "source": [
    "drawtable_spent_binary(new_df,'id_cnt',3)"
   ]
  },
  {
   "cell_type": "markdown",
   "metadata": {},
   "source": [
    "* feature 함수"
   ]
  },
  {
   "cell_type": "code",
   "execution_count": 22,
   "metadata": {},
   "outputs": [],
   "source": [
    "# 캐릭터 보유 개수에 따라 spent, survived 비율에 선형관계가 보임\n",
    "# 캐릭터 보유 개수에 따른 범주형 변수를 피쳐로 넣자\n",
    "\n",
    "# 전제 : id별 캐릭서 수를 나타내는 열이 존재해야 함\n",
    "# x: id별 캐릭터 개수 \n",
    "def idcnt(x):\n",
    "    if x<=2 :\n",
    "        return 0\n",
    "    elif x<=4:\n",
    "        return 1\n",
    "    else :\n",
    "        return 2   "
   ]
  },
  {
   "cell_type": "markdown",
   "metadata": {},
   "source": [
    "## 2. class별 잔존율 차이"
   ]
  },
  {
   "cell_type": "code",
   "execution_count": 23,
   "metadata": {},
   "outputs": [
    {
     "data": {
      "text/html": [
       "<div>\n",
       "<style scoped>\n",
       "    .dataframe tbody tr th:only-of-type {\n",
       "        vertical-align: middle;\n",
       "    }\n",
       "\n",
       "    .dataframe tbody tr th {\n",
       "        vertical-align: top;\n",
       "    }\n",
       "\n",
       "    .dataframe thead th {\n",
       "        text-align: right;\n",
       "    }\n",
       "</style>\n",
       "<table border=\"1\" class=\"dataframe\">\n",
       "  <thead>\n",
       "    <tr style=\"text-align: right;\">\n",
       "      <th></th>\n",
       "      <th>class</th>\n",
       "      <th>survived_1</th>\n",
       "      <th>survived_all</th>\n",
       "      <th>survived_0</th>\n",
       "      <th>rate_survived_1</th>\n",
       "      <th>rate_survived_0</th>\n",
       "    </tr>\n",
       "  </thead>\n",
       "  <tbody>\n",
       "    <tr>\n",
       "      <th>0</th>\n",
       "      <td>0.0</td>\n",
       "      <td>9420</td>\n",
       "      <td>16137</td>\n",
       "      <td>6717</td>\n",
       "      <td>0.583752</td>\n",
       "      <td>0.416248</td>\n",
       "    </tr>\n",
       "    <tr>\n",
       "      <th>1</th>\n",
       "      <td>1.0</td>\n",
       "      <td>17903</td>\n",
       "      <td>28819</td>\n",
       "      <td>10916</td>\n",
       "      <td>0.621222</td>\n",
       "      <td>0.378778</td>\n",
       "    </tr>\n",
       "    <tr>\n",
       "      <th>2</th>\n",
       "      <td>2.0</td>\n",
       "      <td>15615</td>\n",
       "      <td>26774</td>\n",
       "      <td>11159</td>\n",
       "      <td>0.583215</td>\n",
       "      <td>0.416785</td>\n",
       "    </tr>\n",
       "    <tr>\n",
       "      <th>3</th>\n",
       "      <td>3.0</td>\n",
       "      <td>9869</td>\n",
       "      <td>18981</td>\n",
       "      <td>9112</td>\n",
       "      <td>0.519941</td>\n",
       "      <td>0.480059</td>\n",
       "    </tr>\n",
       "    <tr>\n",
       "      <th>4</th>\n",
       "      <td>4.0</td>\n",
       "      <td>8360</td>\n",
       "      <td>16292</td>\n",
       "      <td>7932</td>\n",
       "      <td>0.513135</td>\n",
       "      <td>0.486865</td>\n",
       "    </tr>\n",
       "    <tr>\n",
       "      <th>5</th>\n",
       "      <td>5.0</td>\n",
       "      <td>8091</td>\n",
       "      <td>15065</td>\n",
       "      <td>6974</td>\n",
       "      <td>0.537073</td>\n",
       "      <td>0.462927</td>\n",
       "    </tr>\n",
       "    <tr>\n",
       "      <th>6</th>\n",
       "      <td>6.0</td>\n",
       "      <td>2976</td>\n",
       "      <td>5514</td>\n",
       "      <td>2538</td>\n",
       "      <td>0.539717</td>\n",
       "      <td>0.460283</td>\n",
       "    </tr>\n",
       "    <tr>\n",
       "      <th>7</th>\n",
       "      <td>7.0</td>\n",
       "      <td>13722</td>\n",
       "      <td>22269</td>\n",
       "      <td>8547</td>\n",
       "      <td>0.616193</td>\n",
       "      <td>0.383807</td>\n",
       "    </tr>\n",
       "  </tbody>\n",
       "</table>\n",
       "</div>"
      ],
      "text/plain": [
       "   class  survived_1  survived_all  survived_0  rate_survived_1  \\\n",
       "0    0.0        9420         16137        6717         0.583752   \n",
       "1    1.0       17903         28819       10916         0.621222   \n",
       "2    2.0       15615         26774       11159         0.583215   \n",
       "3    3.0        9869         18981        9112         0.519941   \n",
       "4    4.0        8360         16292        7932         0.513135   \n",
       "5    5.0        8091         15065        6974         0.537073   \n",
       "6    6.0        2976          5514        2538         0.539717   \n",
       "7    7.0       13722         22269        8547         0.616193   \n",
       "\n",
       "   rate_survived_0  \n",
       "0         0.416248  \n",
       "1         0.378778  \n",
       "2         0.416785  \n",
       "3         0.480059  \n",
       "4         0.486865  \n",
       "5         0.462927  \n",
       "6         0.460283  \n",
       "7         0.383807  "
      ]
     },
     "execution_count": 23,
     "metadata": {},
     "output_type": "execute_result"
    }
   ],
   "source": [
    "aa = data.groupby(['class'])['survived'].agg('sum').reset_index()\n",
    "bb = data.groupby(['class'])['survived'].agg('count').reset_index()\n",
    "\n",
    "cc = pd.merge(aa,bb,on='class')\n",
    "cc['survived_0'] = cc['survived_y']-cc['survived_x']\n",
    "cc = cc.rename(columns = {'survived_x':'survived_1', 'survived_y': 'survived_all'})\n",
    "\n",
    "cc['rate_survived_1'] = cc['survived_1']/cc['survived_all']\n",
    "cc['rate_survived_0'] = cc['survived_0']/cc['survived_all']\n",
    "\n",
    "cc"
   ]
  },
  {
   "cell_type": "code",
   "execution_count": 24,
   "metadata": {},
   "outputs": [
    {
     "data": {
      "image/png": "[encoded data removed]",
      "text/plain": [
       "<Figure size 432x288 with 1 Axes>"
      ]
     },
     "metadata": {},
     "output_type": "display_data"
    }
   ],
   "source": [
    "ypos = np.arange(8)\n",
    "\n",
    "plt.bar(ypos, cc['rate_survived_1'], alpha=0.5,color='b')\n",
    "plt.bar(ypos, cc['rate_survived_0'], bottom = cc['rate_survived_1'], alpha=0.5, color='r')\n",
    "\n",
    "plt.xlabel = 'class'\n",
    "plt.legend(['survived','notsurvived'], loc = 'upper right')\n",
    "\n",
    "plt.show()\n",
    "\n",
    "# 별 차이 없음"
   ]
  },
  {
   "cell_type": "markdown",
   "metadata": {},
   "source": [
    "## 3. class별 과금 무과금 차이"
   ]
  },
  {
   "cell_type": "code",
   "execution_count": 26,
   "metadata": {},
   "outputs": [
    {
     "data": {
      "text/html": [
       "<div>\n",
       "<style scoped>\n",
       "    .dataframe tbody tr th:only-of-type {\n",
       "        vertical-align: middle;\n",
       "    }\n",
       "\n",
       "    .dataframe tbody tr th {\n",
       "        vertical-align: top;\n",
       "    }\n",
       "\n",
       "    .dataframe thead th {\n",
       "        text-align: right;\n",
       "    }\n",
       "</style>\n",
       "<table border=\"1\" class=\"dataframe\">\n",
       "  <thead>\n",
       "    <tr style=\"text-align: right;\">\n",
       "      <th></th>\n",
       "      <th>class</th>\n",
       "      <th>spent_1</th>\n",
       "      <th>spent_all</th>\n",
       "      <th>spent_0</th>\n",
       "      <th>rate_spent_1</th>\n",
       "      <th>rate_spent_0</th>\n",
       "    </tr>\n",
       "  </thead>\n",
       "  <tbody>\n",
       "    <tr>\n",
       "      <th>0</th>\n",
       "      <td>0.0</td>\n",
       "      <td>11407</td>\n",
       "      <td>16137</td>\n",
       "      <td>4730</td>\n",
       "      <td>0.706885</td>\n",
       "      <td>0.293115</td>\n",
       "    </tr>\n",
       "    <tr>\n",
       "      <th>1</th>\n",
       "      <td>1.0</td>\n",
       "      <td>20804</td>\n",
       "      <td>28819</td>\n",
       "      <td>8015</td>\n",
       "      <td>0.721885</td>\n",
       "      <td>0.278115</td>\n",
       "    </tr>\n",
       "    <tr>\n",
       "      <th>2</th>\n",
       "      <td>2.0</td>\n",
       "      <td>20058</td>\n",
       "      <td>26774</td>\n",
       "      <td>6716</td>\n",
       "      <td>0.749160</td>\n",
       "      <td>0.250840</td>\n",
       "    </tr>\n",
       "    <tr>\n",
       "      <th>3</th>\n",
       "      <td>3.0</td>\n",
       "      <td>12854</td>\n",
       "      <td>18981</td>\n",
       "      <td>6127</td>\n",
       "      <td>0.677204</td>\n",
       "      <td>0.322796</td>\n",
       "    </tr>\n",
       "    <tr>\n",
       "      <th>4</th>\n",
       "      <td>4.0</td>\n",
       "      <td>10372</td>\n",
       "      <td>16292</td>\n",
       "      <td>5920</td>\n",
       "      <td>0.636631</td>\n",
       "      <td>0.363369</td>\n",
       "    </tr>\n",
       "    <tr>\n",
       "      <th>5</th>\n",
       "      <td>5.0</td>\n",
       "      <td>11450</td>\n",
       "      <td>15065</td>\n",
       "      <td>3615</td>\n",
       "      <td>0.760040</td>\n",
       "      <td>0.239960</td>\n",
       "    </tr>\n",
       "    <tr>\n",
       "      <th>6</th>\n",
       "      <td>6.0</td>\n",
       "      <td>4238</td>\n",
       "      <td>5514</td>\n",
       "      <td>1276</td>\n",
       "      <td>0.768589</td>\n",
       "      <td>0.231411</td>\n",
       "    </tr>\n",
       "    <tr>\n",
       "      <th>7</th>\n",
       "      <td>7.0</td>\n",
       "      <td>16266</td>\n",
       "      <td>22269</td>\n",
       "      <td>6003</td>\n",
       "      <td>0.730432</td>\n",
       "      <td>0.269568</td>\n",
       "    </tr>\n",
       "  </tbody>\n",
       "</table>\n",
       "</div>"
      ],
      "text/plain": [
       "   class  spent_1  spent_all  spent_0  rate_spent_1  rate_spent_0\n",
       "0    0.0    11407      16137     4730      0.706885      0.293115\n",
       "1    1.0    20804      28819     8015      0.721885      0.278115\n",
       "2    2.0    20058      26774     6716      0.749160      0.250840\n",
       "3    3.0    12854      18981     6127      0.677204      0.322796\n",
       "4    4.0    10372      16292     5920      0.636631      0.363369\n",
       "5    5.0    11450      15065     3615      0.760040      0.239960\n",
       "6    6.0     4238       5514     1276      0.768589      0.231411\n",
       "7    7.0    16266      22269     6003      0.730432      0.269568"
      ]
     },
     "execution_count": 26,
     "metadata": {},
     "output_type": "execute_result"
    }
   ],
   "source": [
    "mm = data.groupby('class')['spent'].agg('sum').reset_index()\n",
    "mm2 = data.groupby('class')['spent'].agg('count').reset_index()\n",
    "mm3 = pd.merge(mm,mm2,on='class')\n",
    "\n",
    "mm3['spent_0'] = mm3['spent_y']-mm3['spent_x']\n",
    "mm3 = mm3.rename(columns = {'spent_x':'spent_1', 'spent_y':'spent_all'})\n",
    "\n",
    "mm3['rate_spent_1'] = mm3['spent_1']/mm3['spent_all']\n",
    "mm3['rate_spent_0'] = mm3['spent_0']/mm3['spent_all']\n",
    "\n",
    "mm3"
   ]
  },
  {
   "cell_type": "code",
   "execution_count": 27,
   "metadata": {},
   "outputs": [
    {
     "data": {
      "image/png": "[encoded data removed]",
      "text/plain": [
       "<Figure size 432x288 with 1 Axes>"
      ]
     },
     "metadata": {},
     "output_type": "display_data"
    }
   ],
   "source": [
    "ypos = np.arange(8)\n",
    "\n",
    "plt.bar(ypos, mm3['rate_spent_1'], alpha=0.5,color='b')\n",
    "plt.bar(ypos, mm3['rate_spent_0'], bottom = mm3['rate_spent_1'], alpha=0.5, color='r')\n",
    "\n",
    "plt.xlabel = 'class'\n",
    "plt.legend(['spent','notspent'], loc = 'upper right')\n",
    "\n",
    "plt.show()\n",
    "\n",
    "# 별 차이 없음"
   ]
  },
  {
   "cell_type": "markdown",
   "metadata": {},
   "source": [
    "## 4. level별 비이탈/과금 차이 확인"
   ]
  },
  {
   "cell_type": "code",
   "execution_count": 28,
   "metadata": {},
   "outputs": [],
   "source": [
    "# data aggregate로 level이 평균 level로 구해졌기 때문에 반올림 처리\n",
    "\n",
    "data['level'] = data['level'].apply(lambda x : round(x,0))"
   ]
  },
  {
   "cell_type": "code",
   "execution_count": 30,
   "metadata": {},
   "outputs": [],
   "source": [
    "nn = data.groupby('level')['survived'].agg('sum')"
   ]
  },
  {
   "cell_type": "code",
   "execution_count": 32,
   "metadata": {},
   "outputs": [
    {
     "data": {
      "image/png": "[encoded data removed]",
      "text/plain": [
       "<Figure size 1080x360 with 1 Axes>"
      ]
     },
     "metadata": {},
     "output_type": "display_data"
    }
   ],
   "source": [
    "drawtable_survived_binary(data,'level',11)\n",
    "\n",
    "# 레벨이 높아질수록 생존율이 높아지지는 않음 \n",
    "# level이 아주 작거나 아주 높으면 생존율에 차이를 보임"
   ]
  },
  {
   "cell_type": "markdown",
   "metadata": {},
   "source": [
    "* feature 함수"
   ]
  },
  {
   "cell_type": "code",
   "execution_count": 33,
   "metadata": {},
   "outputs": [],
   "source": [
    "# level <=3 or >=16 이면 1 아니면 0\n",
    "\n",
    "def bylevel(x):\n",
    "    if x<=3 or x>=16:\n",
    "        return 1\n",
    "    else:\n",
    "        return 0"
   ]
  },
  {
   "cell_type": "code",
   "execution_count": 34,
   "metadata": {},
   "outputs": [
    {
     "data": {
      "image/png": "[encoded data removed]",
      "text/plain": [
       "<Figure size 1080x360 with 1 Axes>"
      ]
     },
     "metadata": {},
     "output_type": "display_data"
    }
   ],
   "source": [
    "drawtable_spent_binary(data,'level',9)"
   ]
  },
  {
   "cell_type": "code",
   "execution_count": 36,
   "metadata": {},
   "outputs": [
    {
     "data": {
      "image/png": "[encoded data removed]",
      "text/plain": [
       "<Figure size 432x288 with 1 Axes>"
      ]
     },
     "metadata": {},
     "output_type": "display_data"
    }
   ],
   "source": [
    "kk = data.groupby(['level','survived'])['label_amount_spent'].mean()\n",
    "kk.unstack().plot.bar()\n",
    "plt.ylabel('spent_mean')\n",
    "\n",
    "plt.legend(loc='upper right')\n",
    "plt.show()\n"
   ]
  },
  {
   "cell_type": "code",
   "execution_count": null,
   "metadata": {},
   "outputs": [],
   "source": []
  }
 ],
 "metadata": {
  "kernelspec": {
   "display_name": "Python 3",
   "language": "python",
   "name": "python3"
  },
  "language_info": {
   "codemirror_mode": {
    "name": "ipython",
    "version": 3
   },
   "file_extension": ".py",
   "mimetype": "text/x-python",
   "name": "python",
   "nbconvert_exporter": "python",
   "pygments_lexer": "ipython3",
   "version": "3.6.5"
  }
 },
 "nbformat": 4,
 "nbformat_minor": 2
}
